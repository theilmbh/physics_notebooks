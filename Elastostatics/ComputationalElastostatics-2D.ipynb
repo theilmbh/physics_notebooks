{
 "cells": [
  {
   "cell_type": "markdown",
   "metadata": {},
   "source": [
    "# Computational Elastostatics in 2 dimensions\n",
    "### Brad Theilman\n",
    "\n",
    "This notebook walks you through the basic definitions in continuum mechanics, which is the study of real materials - not just point particles. \n",
    "After explaining the definitions, we derive the basic differential equations describing mechanical equilibrium under the assumption of small deformation gradients. \n",
    "We then demonstrate numerical relaxation methods to compute the shape of a continuous body (thought of as Jello) in mechanical equilbrium, sagging under its own weight.  \n",
    "Then, we discuss the deformation and compute the distribution of pressure and shear stress in the body.\n",
    "\n",
    "This example was inspired by chapter 13 of Benny Lautrup's fantastic continuum mechanics textbook, \"Physics of Continuous Matter\""
   ]
  },
  {
   "cell_type": "code",
   "execution_count": 1,
   "metadata": {},
   "outputs": [],
   "source": [
    "import numpy as np\n",
    "import matplotlib.pyplot as plt\n",
    "%matplotlib inline"
   ]
  },
  {
   "cell_type": "markdown",
   "metadata": {},
   "source": [
    "## Strain\n",
    "\n",
    "We assume that the material particle original located at $(x, y)$ gets moved to the location $x' = x + u_x(x, y), y' = y + u_y(x, y)$.\n",
    "\n",
    "So, we call $u_i(x, y)$ the deformation.  It is represented with two $N$ by $N$ matrices, giving the x deformation and y deformation.\n",
    "\n",
    "We assume that the gradients of the deformation are small.  This is the standard assumption for linear elasticity.\n",
    "Under this assumption, we can define the Cauchy strain tensor to be \n",
    "\n",
    "$$ u_{ij} = \\nabla_i u_j + \\nabla_j u_i $$\n",
    "\n",
    "This tensor is symmetric, so there are 3 independent components in 2 dimensions. \n",
    "\n",
    "The next function computes the strains from the deformations"
   ]
  },
  {
   "cell_type": "code",
   "execution_count": 2,
   "metadata": {},
   "outputs": [],
   "source": [
    "def strains(Ux, Uy, dx):\n",
    "    Uxx = np.gradient(Ux, dx, axis=1, edge_order=2)\n",
    "    Uyy = np.gradient(Uy, dx, axis=0, edge_order=2)\n",
    "    Uxy = (1./2)*(np.gradient(Ux, dx, axis=0, edge_order=2) + np.gradient(Uy, dx, axis=1, edge_order=2))\n",
    "    return (Uxx, Uyy, Uxy)"
   ]
  },
  {
   "cell_type": "markdown",
   "metadata": {},
   "source": [
    "## Stress\n",
    "\n",
    "Once we have the strains, we can use Hooke's law to compute the stresses.  Hooke's law posits a linear relationship between strains to stresses.\n",
    "Furthermore, we assume the material is homogeneous and isotropic.  Homogeneous means that the linear relationship is the same everywhere in the material.\n",
    "Isotropic means that there are no preferred directions. \n",
    "\n",
    "These assumptions restrict the form that the linear relationship can have.  There can be only two terms: one proportional to the strain tensor itself, and the other proportional to its trace. \n",
    "So we define \n",
    "\n",
    "$$ \\sigma_{ij} = 2 \\mu u_{ij} + \\lambda \\Sigma_k u_{kk} $$\n",
    "\n",
    "The function below computes the stresses from the strain tensor"
   ]
  },
  {
   "cell_type": "code",
   "execution_count": 3,
   "metadata": {},
   "outputs": [],
   "source": [
    "def stresses(Uxx, Uyy, Uxy, mu, lam):\n",
    "    sxx = (2*mu +lam)*Uxx + lam*Uyy\n",
    "    syy = (2*mu + lam)*Uyy + lam*Uxx\n",
    "    sxy = 2*mu*Uxy\n",
    "    syx = sxy\n",
    "    return (sxx, syy, sxy, syx)"
   ]
  },
  {
   "cell_type": "markdown",
   "metadata": {},
   "source": [
    "## Material Parameters\n",
    "$ \\mu $ and $ \\lambda $ are called Lame parameters.  They are related to the more well-known material parameters called the Young's modulus and the Poisson ratio.  Here are two functions to compute the Lame parameters from Young's modulus and the Poisson ratio."
   ]
  },
  {
   "cell_type": "code",
   "execution_count": 4,
   "metadata": {},
   "outputs": [],
   "source": [
    "def lam(E, nu):\n",
    "    return (E*nu) / ((1-2*nu)*(1+nu))\n",
    "\n",
    "def mu(E, nu):\n",
    "    return E / (2*(1+nu))"
   ]
  },
  {
   "cell_type": "markdown",
   "metadata": {},
   "source": [
    "## Total Force Density\n",
    "\n",
    "Consider a small material box located at $x, y$.  What is the total force due to stress in the $x$-direction? \n",
    "Let's sum up all of the forces on the sides of the box in the $x$ direction.\n",
    "\n",
    "First, we have normal stresses on the faces normal to the x direction.  if the width of the box is $dx$, then the total force is\n",
    "\n",
    "$$\n",
    "F_x = \\sigma_{xx}(x+dx, y) - \\sigma_{xx}(x, y) \\approx \\partial_x \\sigma_{xx} (x, y)\n",
    "$$\n",
    "\n",
    "But we could also have forces in the x direction acting on the surfaces normal to the y axis: these are the shear stresses.  So we have to add them:\n",
    "\n",
    "$$\n",
    "F_x = \\partial_x \\sigma_{xx} (x, y) + \\sigma_{yx}(x, y+dx) - \\sigma_{yx}(x, y) \\approx \\partial_x \\sigma_{xx} (x, y) + \\partial_y \\sigma_{yx} (x, y)\n",
    "$$\n",
    "\n",
    "Thus, the total force on the material box due to stress is the divergence of the stress tensor:\n",
    "\n",
    "$$\n",
    "F_j = \\nabla_i \\sigma_{ij}\n",
    "$$\n",
    "\n",
    "What other forces act on the box?  Well, there could be body forces such as gravity that act on the whole particle itself, so we must include them:\n",
    "\n",
    "$$\n",
    "F_j = \\nabla_i \\sigma_{ij} + \\rho g_j + f_j\n",
    "$$\n",
    "\n",
    "Where $g_i$ is the local gravitational acceleration vector, and $f_j$ represents any other forces present.\n",
    "\n",
    "Let's define a function to compute the total force at each point in our material from the stresses, gravity, and whatever else we want:"
   ]
  },
  {
   "cell_type": "code",
   "execution_count": 5,
   "metadata": {},
   "outputs": [],
   "source": [
    "def force(sxx, syy, sxy, syx, rho, g, dx, Fx=None, Fy=None):\n",
    "    '''\n",
    "    sxx : Normal stress in x direction\n",
    "    syy : Normal stress in y direction\n",
    "    syx : Shear stress\n",
    "    rho : Material density\n",
    "    g   : y component of downward gravitational acceleration\n",
    "    Fx  : External x-directed body force\n",
    "    Fy  : External y-directed body force\n",
    "    \n",
    "    '''\n",
    "    if Fx is None:\n",
    "        Fx = np.zeros_like(sxx)\n",
    "    if Fy is None:\n",
    "        Fy = np.zeros_like(syy)\n",
    "    \n",
    "    # Total force is divergence of stress tensor plus body forces\n",
    "    fx = np.gradient(sxx, dx, axis=1, edge_order=2) + np.gradient(syx, dx, axis=0, edge_order=2) + Fx\n",
    "    fy = np.gradient(sxy, dx, axis=1, edge_order=2) + np.gradient(syy, dx, axis=0, edge_order=2) - rho*g + Fy\n",
    "    return (fx, fy)"
   ]
  },
  {
   "cell_type": "markdown",
   "metadata": {},
   "source": [
    "### Equilibrium Equation\n",
    "\n",
    "We now have enough available to define the problem we are trying to solve.  \n",
    "We would like to know how an elastic body deforms when subject to various forces, such as its own weight. \n",
    "After deforming, the body will be at rest with no net accelerations. \n",
    "Newton's second law tells us that to have no net acceleration, all forces must some to zero. \n",
    "\n",
    "Since we are working with a continuum body, we want the accelerations of each material particle to be zero. \n",
    "This means that the total force density must equal zero. So, to summarize, we seek a vector function $u_i(x, y)$ that gives the deformation of the material particle located at $(x, y)$.  This deformation must be a solution to the system of partial differential equations\n",
    "\n",
    "$$\n",
    "\\nabla_i \\sigma_{ij} + F_j = 0\n",
    "$$\n",
    "\n",
    "$$ \n",
    "\\sigma_{ij} = 2\\mu u_{ij} + \\lambda u_{ii}\n",
    "$$\n",
    "\n",
    "$$\n",
    "u_{ij} = \\nabla_i u_j + \\nabla_j u_i\n",
    "$$\n"
   ]
  },
  {
   "cell_type": "markdown",
   "metadata": {},
   "source": [
    "### Boundary Conditions\n",
    "\n",
    "Every partial differential equations needs boundary conditions. \n",
    "For simplicity, our domain is a square region in the x-y plane, so we have four boundaries. \n",
    "Since our partial differential equation is a second order differential equation for $u$, we need a condition on either the function itself or its derivative.  Since the stress depends linearly on the derivatives of the deformation, it will be more intuitive to impose boundary conditions on the stress rather than the derivative of the deformation itself.\n",
    "\n",
    "If a particular component of the stress vector at a boundary vanishes, that means there is no contact force acting on that boundary. Thus, that boundary is \"free\" in the sense that it can move wherever it needs.\n",
    "\n",
    "If a deformation component vanishes at the boundary, then that boundary is \"fixed\" and cannot move.  The surface to which it is attached will provide whatever stres is necessary at that boundary to maintain equilibrium. \n",
    "\n",
    "Here is a function to force the boundaries of our approximate solution to adhere to the appropriate boundary conditions.\n",
    "\n",
    "You can set these however you want, but for our example, the material will be sitting on a floor that it can slide along but not pass through.  It will be also be stuck against a wall that it can't separate from, but it can slide up and down along. "
   ]
  },
  {
   "cell_type": "code",
   "execution_count": 6,
   "metadata": {},
   "outputs": [],
   "source": [
    "def set_boundary(sxx, syy, sxy, syx, Ux, Uy):\n",
    "    # For a free boundary, the stress (s) has to be zero\n",
    "    # For a constrained boundary, the deformation must be zero, but the stress can be whatever it needs to be to maintain zero deformation.  \n",
    "    \n",
    "    # Boundary at x = 0 (Left sized)\n",
    "    Ux[:, 0] = 0     # Fixed - no movement in the x direction\n",
    "    syx[:, 0] = 0    # No shear stress in y direction - surface may slide along x = 0 plane\n",
    "    #sxx[:, 0] = 0   # No normal stress in x direction - surface is free. \n",
    "    #Uy[:, 0] = 0    # No deformation in y direction - surface cannot slide along x = 0 plane. \n",
    "\n",
    "    \n",
    "    # Boundary at y = 0 (Bottom)\n",
    "    Uy[0, :] = 0     # Fixed in y direction; Body may not fall through the floor\n",
    "    sxy[0, :] = 0    # Free surface; Body may slide along the floor\n",
    "    #syy[0, :] = 0   # Free surface; Body may fall through the floor\n",
    "    #Ux[0, :] = 0    # Fixed in x direction; Body may not slide along floor\n",
    "    \n",
    "    # Boundary at x = 1 (Right side)\n",
    "    sxx[:, -1] = 0   # Free surface\n",
    "    syx[:, -1] = 0   # Free surface \n",
    "    #Ux[:, -1] = 0   # Fixed in x direction\n",
    "    #Uy[:, -1] = 0   # Fixed in y direction\n",
    "    \n",
    "    # y = b\n",
    "    syy[-1, :] = 0\n",
    "    sxy[-1, :] = 0\n",
    "    \n",
    "    return (sxx, syy, sxy, syx, Ux, Uy)\n",
    "    \n",
    "    "
   ]
  },
  {
   "cell_type": "markdown",
   "metadata": {},
   "source": [
    "### Setting up domain and parameters\n",
    "\n",
    "Here we initialize our domain and our material parameters.  The domain is a square, N x N grid, spanning the coordinate range \\[0, 1\\]\n",
    "\n",
    "We set the Young's modulus and Poisson's ratio and then compute the equivalent Lame parameters\n",
    "\n",
    "Then we set the material density and gravitational acceleration"
   ]
  },
  {
   "cell_type": "code",
   "execution_count": null,
   "metadata": {},
   "outputs": [],
   "source": [
    "## Set up grid\n",
    "N = 21     # N x N grid\n",
    "Ux = np.zeros((N, N))\n",
    "Uy = np.zeros((N, N))\n",
    "dx = 1./(N-1)  # Meters\n",
    "xcoord = np.linspace(0, 1, N)\n",
    "ycoord = np.linspace(0, 1, N)\n",
    "\n",
    "E = 20      # Pascal\n",
    "nu = 1./3  # (dimensionless)\n",
    "\n",
    "# Compute Lame parameters\n",
    "m = mu(E, nu)\n",
    "l = lam(E, nu)\n",
    "\n",
    "# Density and gravity\n",
    "rho = 1   # kg/m^3\n",
    "g = 9.81     # m/s^2"
   ]
  },
  {
   "cell_type": "markdown",
   "metadata": {},
   "source": [
    "### Compute the deformation\n",
    "\n",
    "For each iteration, we compute the total force density vector at each material particle. \n",
    "\n",
    "Since, generally, force is the spatial gradient of energy, we can lower the energy of the material by deforming along the force vector.  \n",
    "\n",
    "If we do this long enough, and provide all of our approximate expressions are numerically stable, the deformations will \"relax\" into their equilibrium conditions, where there is no net force, and elastic potential energy is minimized."
   ]
  },
  {
   "cell_type": "code",
   "execution_count": null,
   "metadata": {},
   "outputs": [],
   "source": [
    "eps = (0.9/E)*(dx**4 / (2*dx**2))\n",
    "ITS = 2500\n",
    "forces = np.zeros(ITS)\n",
    "\n",
    "# Gradient Descent\n",
    "for it in range(ITS):\n",
    "    \n",
    "    # Compute strain tensor field from deformation vector field\n",
    "    (Uxx, Uyy, Uxy) = strains(Ux, Uy, dx)\n",
    "    \n",
    "    # Use homogeneous, isotropic Hooke's law to compute stress tensor field\n",
    "    (sxx, syy, sxy, syx) = stresses(Uxx, Uyy, Uxy, m, l)\n",
    "    \n",
    "    # Enforce boundary conditions\n",
    "    (sxx, syy, sxy, syx, Ux, Uy) = set_boundary(sxx, syy, sxy, syx, Ux, Uy)\n",
    "    \n",
    "    # Compute total force density from body forces and stress gradients\n",
    "    (fx, fy) = force(sxx, syy, sxy, syx, rho, g, dx)\n",
    "    \n",
    "    # Compute gradient descent step\n",
    "    # Elastic potential energy gradient is proportional to totaal force density\n",
    "    dUx = eps*fx\n",
    "    dUy = eps*fy\n",
    "    \n",
    "    # Update deformation field\n",
    "    Ux += dUx\n",
    "    Uy += dUy\n",
    "    \n",
    "    # Save current total force magnitude\n",
    "    forces[it] = np.sum(dx*dx*np.sqrt(fx**2 + fy**2))\n",
    "    \n",
    "    # Re-enforce boundary conditions\n",
    "    (sxx, syy, sxy, syx, Ux, Uy) = set_boundary(sxx, syy, sxy, syx, Ux, Uy)"
   ]
  },
  {
   "cell_type": "markdown",
   "metadata": {},
   "source": [
    "### Monitor the relaxation\n",
    "\n",
    "Here we plot the total force magnitude integrate over the whole material. We expect that if total force tends to zero, we have reached equillibrium."
   ]
  },
  {
   "cell_type": "code",
   "execution_count": null,
   "metadata": {},
   "outputs": [],
   "source": [
    "plt.figure()\n",
    "plt.plot(forces, 'k')\n",
    "plt.grid()\n",
    "plt.xlabel('Iteration')\n",
    "plt.ylabel('Total Force (N)')\n",
    "plt.title('Relaxation')"
   ]
  },
  {
   "cell_type": "markdown",
   "metadata": {},
   "source": [
    "### Visualize the deformation vector field\n",
    "\n",
    "The deformation is represented by a field of 2D vectors at each point in the material.  \n",
    "\n",
    "Let's create a quiver plot to illustrate which direction each material particle moves under its own weight"
   ]
  },
  {
   "cell_type": "code",
   "execution_count": null,
   "metadata": {},
   "outputs": [],
   "source": [
    "plt.figure(figsize=(8, 8))\n",
    "plt.quiver(xcoord, ycoord, Ux, Uy)\n",
    "plt.title('Deformation Vector Field')\n",
    "plt.xlabel('Material X Coordinate')\n",
    "plt.ylabel('Material Y Coordinate');"
   ]
  },
  {
   "cell_type": "markdown",
   "metadata": {},
   "source": [
    "We see that along the x = 0 boundary, the deformation vector is purely vertical.  This agrees with our boundary conditions that stated that the material can slide up and down along the boundary but can't separate from the wall.  Similarly, the y = 0 boundary shows purely horizontal deformation.  Elsewhere in the material, the material particles show a downward component of sagging due to gravity as well as a horizontal component indicating the material bulges outwards under its own weight. "
   ]
  },
  {
   "cell_type": "markdown",
   "metadata": {},
   "source": [
    "### Visualizing the deformed material\n",
    "\n",
    "We can get a pretty quick visualization of the deformed material by simply adding the deformation vectors to a grid of particles located at the original material particle coordinates (themselves arranged as a grid).  Then, we plot these new points as a scatter plot."
   ]
  },
  {
   "cell_type": "code",
   "execution_count": null,
   "metadata": {},
   "outputs": [],
   "source": [
    "X, Y = np.meshgrid(xcoord, ycoord)\n",
    "\n",
    "plt.figure(figsize=(8, 8))\n",
    "#plt.scatter(X, Y, c='black')\n",
    "plt.scatter(X + Ux, Y+Uy, c='red')\n",
    "plt.grid()\n",
    "plt.title('Deformation in a Gravitational Field')\n",
    "plt.xlabel('X (m)')\n",
    "plt.ylabel('Y (m)');"
   ]
  },
  {
   "cell_type": "markdown",
   "metadata": {},
   "source": [
    "You can clearly see the sagging and bulging due to gravity, and the results fit our intution.\n",
    "\n",
    "Let's define a few functions to compute and plot the outline of the deformed material.  This will make a more pleasing and intuitive plot"
   ]
  },
  {
   "cell_type": "code",
   "execution_count": null,
   "metadata": {},
   "outputs": [],
   "source": [
    "def get_outline(X, Y):\n",
    "    \n",
    "    a = np.hstack((X[0, :][:, np.newaxis], Y[0, :][:, np.newaxis]))\n",
    "    b = np.hstack((X[-1, :][:, np.newaxis], Y[-1, :][:, np.newaxis]))\n",
    "    c = np.hstack((X[:, 0][:, np.newaxis], Y[:, 0][:, np.newaxis]))\n",
    "    d = np.hstack((X[:, -1][:, np.newaxis], Y[:, -1][:, np.newaxis]))\n",
    "    return (a,b,c,d)\n",
    "\n",
    "def plot_outline(a, b, c, d, *args, label=None, **kwargs):\n",
    "    plt.plot(a[:, 0], a[:, 1], *args, **kwargs)\n",
    "    plt.plot(b[:, 0], b[:, 1], *args, **kwargs)\n",
    "    plt.plot(c[:, 0], c[:, 1], *args, **kwargs)\n",
    "    plt.plot(d[:, 0], d[:, 1], label=label, *args, **kwargs)"
   ]
  },
  {
   "cell_type": "markdown",
   "metadata": {},
   "source": [
    "### Deformed vs. Undeformed comparison\n",
    "\n",
    "Here we visualize the outlines of the deformed and undeformed materials on the same plot.  We can see that with such a low Young's modulus, the material is weak and can't hold itself up very well under its own weight.  This leads to a relatively drastic deformation.  However, because the deformation *gradient* is small, our approximation methods can be trusted."
   ]
  },
  {
   "cell_type": "code",
   "execution_count": null,
   "metadata": {},
   "outputs": [],
   "source": [
    "plt.figure(figsize=(10, 10))\n",
    "deformed = get_outline(X+Ux, Y+Uy)\n",
    "original = get_outline(X, Y)\n",
    "\n",
    "plot_outline(*deformed, 'k--', linewidth=3, label='Deformed')\n",
    "plot_outline(*original, 'k-', linewidth=3, label='Original')\n",
    "plt.gca().set_aspect('equal')\n",
    "plt.legend(loc='upper right')\n",
    "\n",
    "plt.grid(which='both')\n",
    "plt.title('Deformation in a Gravitational Field')\n",
    "plt.xlabel('X (m)')\n",
    "plt.ylabel('Y (m)');"
   ]
  },
  {
   "cell_type": "markdown",
   "metadata": {},
   "source": [
    "### Pressure and Shear Stresses\n",
    "\n",
    "The deformation is going to induce pressure and shear stresses inside the material that act to counter the gravitational force or enforce the boundary conditions by resulting from the surfaces forces the boundary walls exert on the material.  Let's visualize the distribution of pressure and shear stress.\n",
    "\n",
    "The pressure is defined as the negative of the trace of the stress tensor.  The reason for the minus sign is that positive normal stress indicates a pulling along the normal direction, and we think of positive pressure as a \"pushing\" or \"compressing\" force.  This is just a convention, and the results are equivalent no matter which sign you use, as long as you are consistent!"
   ]
  },
  {
   "cell_type": "code",
   "execution_count": null,
   "metadata": {},
   "outputs": [],
   "source": [
    "plt.imshow(-(sxx + syy)/2, origin='lower', aspect='equal')\n",
    "plt.colorbar(label='Pressure (Pa)')\n",
    "#plt.contour(-(sxx+syy)/2, colors='black')\n",
    "plt.title('Total Pressure');\n",
    "plt.xlabel('Material X index')\n",
    "plt.ylabel('Material Y index');\n"
   ]
  },
  {
   "cell_type": "markdown",
   "metadata": {},
   "source": [
    "We see the regions of highest pressure are at the bottom of the material, which makes sense because this part of the material has to support the weight of all the material above it.\n",
    "We also see that the pressure is higher near the fixed boundaries, which also makes sense because the material is able to expand at the free boundaries, lowering the pressure. \n",
    "\n",
    "Now we plot the shear stresses"
   ]
  },
  {
   "cell_type": "code",
   "execution_count": null,
   "metadata": {},
   "outputs": [],
   "source": [
    "plt.imshow(sxy, origin='lower', aspect='equal')\n",
    "plt.colorbar(label='Stress (Pa)')\n",
    "#plt.contour(sxy, colors='black')\n",
    "plt.title('Shear Stress')\n",
    "plt.xlabel('Material X index')\n",
    "plt.ylabel('Material Y index');\n",
    "\n"
   ]
  },
  {
   "cell_type": "markdown",
   "metadata": {},
   "source": [
    "Since we are working in two dimensions, there is only one component of shear stress.  We see that the shear stress is zero along the boundaries, as it should be, since there is no friction or \"sticking\" along the boundaries.  However, the shear stress shows its greatest magnitude towards the middle, where the combination of compressing vertically due to gravity and the bulging outward are the greatest.  "
   ]
  },
  {
   "cell_type": "markdown",
   "metadata": {},
   "source": [
    "## Conclusion\n",
    "\n",
    "In this notebook we have defined the notions of stress and strain for a continuous material body under the assumption of small deformation gradients.  We applied Newton's laws to derive partial differential equations describing the relationships between stress, strain, deformation, and mechanical equilibrium.  We applied a relaxation technique to solve for the equilibrium deformation of a continuous body deforming under its own weight, subject to non trivial boundary conditions.  We visualized the resulting deformation, and found that it matched our intuition. We used our results to compute the pressure and shear stress distribution inside the material, providing insight into the mechanics of continuous bodies.\n",
    "\n",
    "### Where to go from here\n",
    "\n",
    "I hope you try to play around with the parameters and boundary conditions.  You will be able to identify when the assumptions of the model break down, but also you could simulate more interesting scenarios than we have here. For example, what if the mateiral was dangling from a ceiling? Or what if the material was a bar stretched between two anchors, like a bridge?  Figure out what the boundary conditions would be in these cases, and make guesses as to what the deformations and stresses should look like. Do they match your intution?\n",
    "\n",
    "Again, this example was taken from chapter 13 of Benny Lautrup's \"Physics of Continuous Matter\", which I can't recommend enough.  If you can get a copy, there are plenty of analytic examples that will help you understand continuum and fluid mechanics in a multiude of situations that come up in every day life. \n",
    "\n",
    "## Thanks for reading!"
   ]
  }
 ],
 "metadata": {
  "kernelspec": {
   "display_name": "Python 3",
   "language": "python",
   "name": "python3"
  },
  "language_info": {
   "codemirror_mode": {
    "name": "ipython",
    "version": 3
   },
   "file_extension": ".py",
   "mimetype": "text/x-python",
   "name": "python",
   "nbconvert_exporter": "python",
   "pygments_lexer": "ipython3",
   "version": "3.6.2"
  }
 },
 "nbformat": 4,
 "nbformat_minor": 2
}
